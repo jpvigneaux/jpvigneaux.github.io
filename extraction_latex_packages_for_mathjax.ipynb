{
 "cells": [
  {
   "cell_type": "code",
   "execution_count": 2,
   "metadata": {},
   "outputs": [],
   "source": [
    "string = r\"\"\"\\newcommand{\\salg}{\\mathfrak}\n",
    "\n",
    "    %%% Sets %%%\n",
    "    \\newcommand{\\Rr}{\\mathbb{R}}\n",
    "    \\newcommand{\\Cc}{\\mathbb{C}}\n",
    "    \\newcommand{\\Nn}{\\mathbb{N}}\n",
    "    \\newcommand{\\Qq}{\\mathbb{Q}}\n",
    "    \\newcommand{\\Zz}{\\mathbb{Z}}\n",
    "    \\newcommand{\\Ff}{\\mathbb{F}}\n",
    "\n",
    "    %%% Probability commands %%%\n",
    "    \\newcommand{\\Ex}{\\mathbin{\\mathbb{E}}}\n",
    "    \\renewcommand{\\Pr}{\\mathbin{\\mathbb{P}}}\n",
    "    \\newcommand{\\Var}{\\mathbin{\\mathbf{Var}}}\n",
    "    \\newcommand{\\Tr}[1]{\\operatorname{Tr}\\left( #1\\right)}\n",
    "    \\newcommand{\\Bin}{\\operatorname{Bin}}\n",
    "    \\newcommand{\\Ber}{\\operatorname{Ber}}\n",
    "\n",
    "    %% Homological algebra %%%\n",
    "    \\newcommand{\\Hom}{\\operatorname{Hom}}\n",
    "    \\newcommand{\\Ext}{\\operatorname{Ext}}\n",
    "    \\newcommand{\\Tor}{\\operatorname{Tor}}\n",
    "    \\renewcommand{\\ker}{\\operatorname{ker}}\n",
    "    \\newcommand{\\coker}{\\operatorname{coker}}\n",
    "    \\newcommand{\\im}{\\operatorname{im}}\n",
    "    \\newcommand{\\coim}{\\operatorname{coim}}\n",
    "    \\newcommand{\\monic}{\\rightarrowtail}\n",
    "    \\newcommand{\\epic}{\\twoheadrightarrow}\n",
    "    \\newcommand{\\tr}{^{\\rm T}}\n",
    "    \\newcommand{\\rank}{\\operatorname{rank}}\n",
    "    \\newcommand{\\id}{\\operatorname{id}}\n",
    "\n",
    "    %% Category theory\n",
    "    \\newcommand{\\Ob}{\\operatorname{Ob}}\n",
    "    \\newcommand{\\Mor}{\\operatorname{Mor}}\n",
    "\n",
    "    \\newcommand{\\sheaf}[1]{\\mathcal{#1}}\n",
    "    \\newcommand{\\cat}[1]{\\mathbf{#1}}\n",
    "\n",
    "    \\newcommand{\\vol}{\\operatorname{vol}}\"\"\""
   ]
  },
  {
   "cell_type": "code",
   "execution_count": 4,
   "metadata": {},
   "outputs": [
    {
     "name": "stdout",
     "output_type": "stream",
     "text": [
      "\\newcommand{\\salg}{\\mathfrak}\n",
      "\n",
      "    %%% Sets %%%\n",
      "    \\newcommand{\\Rr}{\\mathbb{R}}\n",
      "    \\newcommand{\\Cc}{\\mathbb{C}}\n",
      "    \\newcommand{\\Nn}{\\mathbb{N}}\n",
      "    \\newcommand{\\Qq}{\\mathbb{Q}}\n",
      "    \\newcommand{\\Zz}{\\mathbb{Z}}\n",
      "    \\newcommand{\\Ff}{\\mathbb{F}}\n",
      "\n",
      "    %%% Probability commands %%%\n",
      "    \\newcommand{\\Ex}{\\mathbin{\\mathbb{E}}}\n",
      "    \\renewcommand{\\Pr}{\\mathbin{\\mathbb{P}}}\n",
      "    \\newcommand{\\Var}{\\mathbin{\\mathbf{Var}}}\n",
      "    \\newcommand{\\Tr}[1]{\\operatorname{Tr}\\left( #1\\right)}\n",
      "    \\newcommand{\\Bin}{\\operatorname{Bin}}\n",
      "    \\newcommand{\\Ber}{\\operatorname{Ber}}\n",
      "\n",
      "    %% Homological algebra %%%\n",
      "    \\newcommand{\\Hom}{\\operatorname{Hom}}\n",
      "    \\newcommand{\\Ext}{\\operatorname{Ext}}\n",
      "    \\newcommand{\\Tor}{\\operatorname{Tor}}\n",
      "    \\renewcommand{\\ker}{\\operatorname{ker}}\n",
      "    \\newcommand{\\coker}{\\operatorname{coker}}\n",
      "    \\newcommand{\\im}{\\operatorname{im}}\n",
      "    \\newcommand{\\coim}{\\operatorname{coim}}\n",
      "    \\newcommand{\\monic}{\\rightarrowtail}\n",
      "    \\newcommand{\\epic}{\\twoheadrightarrow}\n",
      "    \\newcommand{\\tr}{^{\\rm T}}\n",
      "    \\newcommand{\\rank}{\\operatorname{rank}}\n",
      "    \\newcommand{\\id}{\\operatorname{id}}\n",
      "\n",
      "    %% Category theory\n",
      "    \\newcommand{\\Ob}{\\operatorname{Ob}}\n",
      "    \\newcommand{\\Mor}{\\operatorname{Mor}}\n",
      "\n",
      "    \\newcommand{\\sheaf}[1]{\\mathcal{#1}}\n",
      "    \\newcommand{\\cat}[1]{\\mathbf{#1}}\n",
      "\n",
      "    \\newcommand{\\vol}{\\operatorname{vol}}\n"
     ]
    }
   ],
   "source": [
    "print(string)"
   ]
  },
  {
   "cell_type": "code",
   "execution_count": 5,
   "metadata": {},
   "outputs": [],
   "source": [
    "lines = string.splitlines()"
   ]
  },
  {
   "cell_type": "code",
   "execution_count": 6,
   "metadata": {},
   "outputs": [
    {
     "name": "stdout",
     "output_type": "stream",
     "text": [
      "['\\\\newcommand{\\\\salg}{\\\\mathfrak}', '', '    %%% Sets %%%', '    \\\\newcommand{\\\\Rr}{\\\\mathbb{R}}', '    \\\\newcommand{\\\\Cc}{\\\\mathbb{C}}', '    \\\\newcommand{\\\\Nn}{\\\\mathbb{N}}', '    \\\\newcommand{\\\\Qq}{\\\\mathbb{Q}}', '    \\\\newcommand{\\\\Zz}{\\\\mathbb{Z}}', '    \\\\newcommand{\\\\Ff}{\\\\mathbb{F}}', '', '    %%% Probability commands %%%', '    \\\\newcommand{\\\\Ex}{\\\\mathbin{\\\\mathbb{E}}}', '    \\\\renewcommand{\\\\Pr}{\\\\mathbin{\\\\mathbb{P}}}', '    \\\\newcommand{\\\\Var}{\\\\mathbin{\\\\mathbf{Var}}}', '    \\\\newcommand{\\\\Tr}[1]{\\\\operatorname{Tr}\\\\left( #1\\\\right)}', '    \\\\newcommand{\\\\Bin}{\\\\operatorname{Bin}}', '    \\\\newcommand{\\\\Ber}{\\\\operatorname{Ber}}', '', '    %% Homological algebra %%%', '    \\\\newcommand{\\\\Hom}{\\\\operatorname{Hom}}', '    \\\\newcommand{\\\\Ext}{\\\\operatorname{Ext}}', '    \\\\newcommand{\\\\Tor}{\\\\operatorname{Tor}}', '    \\\\renewcommand{\\\\ker}{\\\\operatorname{ker}}', '    \\\\newcommand{\\\\coker}{\\\\operatorname{coker}}', '    \\\\newcommand{\\\\im}{\\\\operatorname{im}}', '    \\\\newcommand{\\\\coim}{\\\\operatorname{coim}}', '    \\\\newcommand{\\\\monic}{\\\\rightarrowtail}', '    \\\\newcommand{\\\\epic}{\\\\twoheadrightarrow}', '    \\\\newcommand{\\\\tr}{^{\\\\rm T}}', '    \\\\newcommand{\\\\rank}{\\\\operatorname{rank}}', '    \\\\newcommand{\\\\id}{\\\\operatorname{id}}', '', '    %% Category theory', '    \\\\newcommand{\\\\Ob}{\\\\operatorname{Ob}}', '    \\\\newcommand{\\\\Mor}{\\\\operatorname{Mor}}', '', '    \\\\newcommand{\\\\sheaf}[1]{\\\\mathcal{#1}}', '    \\\\newcommand{\\\\cat}[1]{\\\\mathbf{#1}}', '', '    \\\\newcommand{\\\\vol}{\\\\operatorname{vol}}']\n"
     ]
    }
   ],
   "source": [
    "print(lines)"
   ]
  },
  {
   "cell_type": "code",
   "execution_count": 19,
   "metadata": {},
   "outputs": [
    {
     "name": "stdout",
     "output_type": "stream",
     "text": [
      "salg: \"{\\\\mathfrak}\", \n",
      "Rr: \"{\\\\mathbb{R}}\", \n",
      "Cc: \"{\\\\mathbb{C}}\", \n",
      "Nn: \"{\\\\mathbb{N}}\", \n",
      "Qq: \"{\\\\mathbb{Q}}\", \n",
      "Zz: \"{\\\\mathbb{Z}}\", \n",
      "Ff: \"{\\\\mathbb{F}}\", \n",
      "Ex: \"{\\\\mathbin{\\\\mathbb{E}}}\", \n",
      "Pr: \"{\\\\mathbin{\\\\mathbb{P}}}\", \n",
      "Var: \"{\\\\mathbin{\\\\mathbf{Var}}}\", \n",
      "Tr: [\"{\\\\operatorname{Tr}\\\\left( #1\\\\right)}\", 1], \n",
      "Bin: \"{\\\\operatorname{Bin}}\", \n",
      "Ber: \"{\\\\operatorname{Ber}}\", \n",
      "Hom: \"{\\\\operatorname{Hom}}\", \n",
      "Ext: \"{\\\\operatorname{Ext}}\", \n",
      "Tor: \"{\\\\operatorname{Tor}}\", \n",
      "ker: \"{\\\\operatorname{ker}}\", \n",
      "coker: \"{\\\\operatorname{coker}}\", \n",
      "im: \"{\\\\operatorname{im}}\", \n",
      "coim: \"{\\\\operatorname{coim}}\", \n",
      "monic: \"{\\\\rightarrowtail}\", \n",
      "epic: \"{\\\\twoheadrightarrow}\", \n",
      "tr: \"{^{\\\\rm T}}\", \n",
      "rank: \"{\\\\operatorname{rank}}\", \n",
      "id: \"{\\\\operatorname{id}}\", \n",
      "Ob: \"{\\\\operatorname{Ob}}\", \n",
      "Mor: \"{\\\\operatorname{Mor}}\", \n",
      "sheaf: [\"{\\\\mathcal{#1}}\", 1], \n",
      "cat: [\"{\\\\mathbf{#1}}\", 1], \n",
      "vol: \"{\\\\operatorname{vol}}\", \n",
      "\n"
     ]
    }
   ],
   "source": [
    "import re\n",
    "\n",
    "# Regular expression to extract content between curly braces {...} including nested ones\n",
    "curly_pattern = r\"\\{((?:[^{}]|\\{(?:[^{}]|\\{[^{}]*\\})*\\})*)\\}\"\n",
    "\n",
    "# Regular expression to extract content between square brackets [...] if present\n",
    "square_pattern = r\"\\[([^\\[\\]]*)\\]\"\n",
    "\n",
    "def extract_commands(string):\n",
    "    curly_matches = re.findall(curly_pattern, string)\n",
    "    square_matches = re.findall(square_pattern, string)\n",
    "    return curly_matches, square_matches\n",
    "\n",
    "mathjax_code = \"\"\n",
    "\n",
    "for line in lines:\n",
    "    if line.find('newcommand')>0:\n",
    "        curly_matches, square_matches = extract_commands(line)\n",
    "        if len(square_matches)== 0:\n",
    "            mathjax_code += curly_matches[0][1:]+''': \"{'''+curly_matches[1]+'''}\", \\n'''\n",
    "        else:\n",
    "            mathjax_code += curly_matches[0][1:]+''': [\"{'''+curly_matches[1]+'''}\", '''+square_matches[0]+'''], \\n'''\n",
    "\n",
    "\n",
    "print(mathjax_code.replace('\\\\','\\\\\\\\'))\n"
   ]
  },
  {
   "cell_type": "code",
   "execution_count": null,
   "metadata": {},
   "outputs": [],
   "source": [
    "print(String)"
   ]
  },
  {
   "cell_type": "code",
   "execution_count": null,
   "metadata": {},
   "outputs": [],
   "source": [
    "print(string)"
   ]
  },
  {
   "cell_type": "code",
   "execution_count": null,
   "metadata": {},
   "outputs": [],
   "source": []
  }
 ],
 "metadata": {
  "kernelspec": {
   "display_name": "Python 3",
   "language": "python",
   "name": "python3"
  },
  "language_info": {
   "codemirror_mode": {
    "name": "ipython",
    "version": 3
   },
   "file_extension": ".py",
   "mimetype": "text/x-python",
   "name": "python",
   "nbconvert_exporter": "python",
   "pygments_lexer": "ipython3",
   "version": "3.11.2"
  }
 },
 "nbformat": 4,
 "nbformat_minor": 2
}
